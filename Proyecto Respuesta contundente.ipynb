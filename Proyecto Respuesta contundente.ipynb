{
 "cells": [
  {
   "cell_type": "markdown",
   "metadata": {
    "collapsed": true
   },
   "source": [
    "Hola,\n",
    "\n",
    "Soy Dae Hyun. Soy informatico\n",
    "\n",
    "<img src=\"becario.PNG\">\n",
    "\n",
    "Y me gusta mucho trabajar con Python"
   ]
  },
  {
   "cell_type": "markdown",
   "metadata": {
    "collapsed": true
   },
   "source": [
    "Actualmente tengo un jefe encantador. Un tipo genial.\n",
    "\n",
    "<img src=\"jefe1.jpg\">"
   ]
  },
  {
   "cell_type": "markdown",
   "metadata": {
    "collapsed": true
   },
   "source": [
    "Aquí nos veis a los dos en la oficina, Trabajamos muy bien juntos\n",
    "\n",
    "...\n",
    "\n",
    ".......\n",
    "\n",
    "<img src=\"Informatico.jpg\">"
   ]
  },
  {
   "cell_type": "markdown",
   "metadata": {
    "collapsed": true
   },
   "source": [
    "Pero hay mucha gente mala que se mete con él, y que le llama ehhhh cosas feas y mentirosas sobre su apolinea, atletica y escelsamente deportiva linea\n",
    "\n",
    "Unos amigos suyos ya nos echan una mano en China\n",
    "\n",
    "<img src=\"Noticia.PNG\">"
   ]
  },
  {
   "cell_type": "markdown",
   "metadata": {
    "collapsed": true
   },
   "source": [
    "....\n",
    "\n",
    "......\n",
    "\n",
    "Pero ahora quiero echarle una mano yo también... En España\n",
    "\n",
    "Por eso voy a hacer un programa que se baje los tweets del hastag #CoreaDelNorte y ver quien se mete con la linea (no de política) de mi amado jefe\n"
   ]
  },
  {
   "cell_type": "code",
   "execution_count": 1,
   "metadata": {
    "collapsed": true
   },
   "outputs": [],
   "source": [
    "# Vamos a empezar por haccer los imports necesarios"
   ]
  },
  {
   "cell_type": "code",
   "execution_count": 3,
   "metadata": {
    "collapsed": false
   },
   "outputs": [
    {
     "name": "stdout",
     "output_type": "stream",
     "text": [
      "2.7.12 |Anaconda 4.0.0 (64-bit)| (default, Jun 29 2016, 11:07:13) [MSC v.1500 64 bit (AMD64)]\n"
     ]
    }
   ],
   "source": [
    "import pandas as pd\n",
    "import numpy as np\n",
    "import datetime\n",
    "import time\n",
    "import csv\n",
    "import json\n",
    "import nltk\n",
    "import re\n",
    "import tweepy\n",
    "from tweepy import OAuthHandler\n",
    "from tweepy import API\n",
    "from tweepy import Cursor\n",
    "from pprint import pprint\n",
    "from nltk.tokenize import word_tokenize\n",
    "from nltk.classify import NaiveBayesClassifier\n",
    "from nltk.classify import ClassifierI\n",
    "import datetime\n",
    "from pprint import pprint\n",
    "import pandas as pd\n",
    "import numpy as np\n",
    "import urllib\n",
    "import urllib2\n",
    "from urllib2 import urlopen\n",
    "import sys\n",
    "import random\n",
    "import pickle\n",
    "from sklearn.naive_bayes import MultinomialNB, BernoulliNB\n",
    "from sklearn.linear_model import LogisticRegression, SGDClassifier\n",
    "from sklearn.svm import SVC, LinearSVC, NuSVC\n",
    "from statistics import mode\n",
    "from nltk.tokenize import word_tokenize\n",
    "from nltk import UnigramTagger, BigramTagger, TrigramTagger\n",
    "from nltk.tag.hmm import HiddenMarkovModelTagger\n",
    "\n",
    "\n",
    "print (sys.version)\n"
   ]
  },
  {
   "cell_type": "code",
   "execution_count": 4,
   "metadata": {
    "collapsed": true
   },
   "outputs": [],
   "source": [
    "consumer_key = 'MY_DEAR_BOSS'\n",
    "consumer_secret = 'KIM_DOES_NOT_NEED_PASSWORD'\n",
    "access_token = 'BIG_MISSILE'\n",
    "access_token_secret = 'FUNNY_RED_BUTTON'"
   ]
  },
  {
   "cell_type": "code",
   "execution_count": 4,
   "metadata": {
    "collapsed": true
   },
   "outputs": [],
   "source": [
    "# Vamos a extrer los tweets\n",
    "\n",
    "def search(hashtag, Max_Tweets, Recdata):\n",
    "\n",
    "    auth = OAuthHandler(consumer_key, consumer_secret)\n",
    "    auth.set_access_token(access_token, access_token_secret)\n",
    "    \n",
    "    api = API(auth, wait_on_rate_limit=True, wait_on_rate_limit_notify=True)\n",
    "    data = Cursor(api.search, q=hashtag, lang='es').items(Max_Tweets)\n",
    "    \n",
    "    # en carpeta data vamos a almacenar la información en un json.\n",
    "    \n",
    "    current_working_dir = \"./data/\"\n",
    "    log_tweets = current_working_dir  + 'kim_gordo.json'\n",
    "    with open(log_tweets, 'w') as outfile:\n",
    "        for tweet in data:\n",
    "            Recdata.append(json.loads(json.dumps(tweet._json)))\n",
    "            outfile.write(json.dumps(tweet._json))\n",
    "            outfile.write(\"\\n\")\n",
    "            \n",
    "    # PCreamos un dataset con los tweets\n",
    "    tweets = pd.DataFrame()\n",
    "    tweets['text'] = map(lambda tweet: tweet['text'].encode('utf-8'), Recdata)\n",
    "   \n",
    "    # Creamos fichero csv\n",
    "    tweets.to_csv('kim_gordo.csv', sep=';', header=False)"
   ]
  },
  {
   "cell_type": "code",
   "execution_count": 5,
   "metadata": {
    "collapsed": false
   },
   "outputs": [],
   "source": [
    "# Vamos a ver los ultimos 1000\n",
    "\n",
    "Max_Tweets = 1000\n",
    "tweets_data = []\n",
    "hashtag = \"#CoreaDelNorte\"\n",
    "\n",
    "search(hashtag, Max_Tweets, tweets_data)\n",
    "\n",
    "# con esto nos hemos bajado los tweets en español del hastag corea del norte"
   ]
  },
  {
   "cell_type": "code",
   "execution_count": 5,
   "metadata": {
    "collapsed": true
   },
   "outputs": [],
   "source": [
    "# importamos los sinonimos de gordo\n",
    "\n",
    "badwords_list = []\n",
    "text_file = open('gordo.csv', 'r')\n",
    "badwords_list = text_file.read().split('\\n')"
   ]
  },
  {
   "cell_type": "code",
   "execution_count": 6,
   "metadata": {
    "collapsed": true
   },
   "outputs": [],
   "source": [
    "sinonimos_gordo = pd.read_csv('Gordo.csv', sep=',', encoding='latin-1')"
   ]
  },
  {
   "cell_type": "code",
   "execution_count": 7,
   "metadata": {
    "collapsed": false
   },
   "outputs": [
    {
     "name": "stdout",
     "output_type": "stream",
     "text": [
      "            Gordo\n",
      "0        Jamonete\n",
      "1        Tocinete\n",
      "2          Falete\n",
      "3      hipopotamo\n",
      "4       cachalote\n",
      "5      gordinflón\n",
      "6        elefante\n",
      "7      foca monje\n",
      "8          grueso\n",
      "9        abultado\n",
      "10        adiposo\n",
      "11          ancho\n",
      "12      atocinado\n",
      "13        ballena\n",
      "14       barrigón\n",
      "15      barrigudo\n",
      "16      cachalote\n",
      "17         cebado\n",
      "18          Cerdo\n",
      "19     corpulento\n",
      "20      destacado\n",
      "21       Elefante\n",
      "22         enorme\n",
      "23     Foca monje\n",
      "24        fornido\n",
      "25         fuerte\n",
      "26       golitrón\n",
      "27     gordinflas\n",
      "28          gordo\n",
      "29        gordura\n",
      "..            ...\n",
      "47         orondo\n",
      "48          panza\n",
      "49        panzudo\n",
      "50      rechoncho\n",
      "51          recia\n",
      "52          recio\n",
      "53      regordete\n",
      "54        robusto\n",
      "55        rollizo\n",
      "56           sebo\n",
      "57         sonado\n",
      "58       Tocinete\n",
      "59         tocino\n",
      "60    Tragaldabas\n",
      "61  trascendental\n",
      "62   trascendente\n",
      "63          tripa\n",
      "64        tripudo\n",
      "65           unto\n",
      "66           Foca\n",
      "67       vigoroso\n",
      "68     voluminoso\n",
      "69    zampabollos\n",
      "70         Pelota\n",
      "71        Gorrino\n",
      "72       Jamonete\n",
      "73         Falete\n",
      "74         Puerco\n",
      "75          cerdo\n",
      "76           foca\n",
      "\n",
      "[77 rows x 1 columns]\n"
     ]
    }
   ],
   "source": [
    "print (sinonimos_gordo)"
   ]
  },
  {
   "cell_type": "code",
   "execution_count": 8,
   "metadata": {
    "collapsed": true
   },
   "outputs": [],
   "source": [
    "# Joder cuantos.... Que imaginativos los españoles (o que caxxxnes)"
   ]
  },
  {
   "cell_type": "code",
   "execution_count": 9,
   "metadata": {
    "collapsed": true
   },
   "outputs": [],
   "source": [
    "# vamos a cargar los tweets\n",
    "\n",
    "def limpiaNL_string(Texto):\n",
    "    # Definimos que caractees vamos a eliminar\n",
    "    puntuacion = '\\n'\n",
    "    \n",
    "    # y ls surrimimos\n",
    "    cont = 0\n",
    "    no_punct = \"\"\n",
    "    for char in strT:\n",
    "        if char not in puntuacion:\n",
    "            no_punct = no_punct + char\n",
    "    return no_punct"
   ]
  },
  {
   "cell_type": "code",
   "execution_count": 10,
   "metadata": {
    "collapsed": false
   },
   "outputs": [],
   "source": [
    "tweet_list = []\n",
    "with open('./data/kim_gordo.json', 'r') as f:\n",
    "    for line in f:\n",
    "        tweet = json.loads(line)\n",
    "        tweet_list.append(tweet['text'].encode(\"utf-8\"))"
   ]
  },
  {
   "cell_type": "code",
   "execution_count": 11,
   "metadata": {
    "collapsed": true
   },
   "outputs": [],
   "source": [
    "# Además limpiamos los simbolos especiales y vamos a tokenizar\n",
    "\n",
    "emoticons_str = r\"\"\"\n",
    "    (?:\n",
    "        [:=;] # Eyes\n",
    "        [oO\\-]? # Nose (optional)\n",
    "        [D\\)\\]\\(\\]/\\\\OpP] # Mouth\n",
    "    )\"\"\"\n",
    "regex_str = [\n",
    "    emoticons_str,\n",
    "    r'<[^>]+>',\n",
    "    r'(?:@[\\w_]+)', \n",
    "    r\"(?:\\#+[\\w_]+[\\w\\'_\\-]*[\\w_]+)\", \n",
    "    r'http[s]?://(?:[a-z]|[0-9]|[$-_@.&amp;+]|[!*\\(\\),]|(?:%[0-9a-f][0-9a-f]))+',\n",
    "    r'(?:(?:\\d+,?)+(?:\\.?\\d+)?)', \n",
    "    r\"(?:[a-z][a-z'\\-_]+[a-z])\", \n",
    "    r'(?:[\\w_]+)',\n",
    "    r'(?:\\S)' \n",
    "]\n",
    "\n",
    "tokens_re = re.compile(r'('+'|'.join(regex_str)+')', re.VERBOSE | re.IGNORECASE)\n",
    "emoticon_re = re.compile(r'^'+emoticons_str+'$', re.VERBOSE | re.IGNORECASE)\n",
    "\n",
    "def tokenize(s):\n",
    "    return tokens_re.findall(s)\n",
    "\n",
    "def preprocess(s, lowercase=False):\n",
    "    tokens = tokenize(s)\n",
    "    if lowercase:\n",
    "        tokens = [token if emoticon_re.search(token) else token.lower() for token in tokens]\n",
    "  \n",
    "    return map(lambda x: x.lower(), tokens)"
   ]
  },
  {
   "cell_type": "code",
   "execution_count": 12,
   "metadata": {
    "collapsed": false
   },
   "outputs": [
    {
     "name": "stdout",
     "output_type": "stream",
     "text": [
      "['#coreadelnorte', 'campeona', 'del', 'mundial', 'femenino', 'sub', '-', '20', '#', 'f', '\\xc3', '\\xba', 'tbol', 'https://t.co/du7yd7bvwa']\n"
     ]
    }
   ],
   "source": [
    "tweet_token = []\n",
    "for line in tweet_list:\n",
    "    tweet_token.append(preprocess(line))\n",
    "    \n",
    "    # vamos a imprimir una muestra, el tweet 160\n",
    "    \n",
    "print(tweet_token[160])"
   ]
  },
  {
   "cell_type": "code",
   "execution_count": 13,
   "metadata": {
    "collapsed": true
   },
   "outputs": [],
   "source": [
    "# quitamos comillas\n",
    "\n",
    "Classified_tweetsNP = []\n",
    "punctuations = '''';\\n\"'''\n",
    "\n",
    "for i in range(len(tweet_list)):\n",
    "    my_str = tweet_list[i]\n",
    "\n",
    "    no_punct = \"\"\n",
    "    for char in my_str:\n",
    "        if char not in punctuations:\n",
    "            no_punct = no_punct + char\n",
    "    Classified_tweetsNP.append(no_punct)"
   ]
  },
  {
   "cell_type": "code",
   "execution_count": 14,
   "metadata": {
    "collapsed": false
   },
   "outputs": [
    {
     "name": "stdout",
     "output_type": "stream",
     "text": [
      "Cuantos Tweets mencionan Gordo o similar: 1 . Hemos bajado  518 Tweets  Entonces tenemos un 0% de los tweets analizados que contienen la palabra Gordo o sinónimo\n"
     ]
    }
   ],
   "source": [
    "# vamos a ver que tweets tienen algún sinónimo de gordo en español y los clasificamos en consecuencia, si tienen  no tienen\n",
    "\n",
    "Classified_tweets = []\n",
    "Classified_tweets_NI = []\n",
    "cont_insult = 1\n",
    "insulto_activo = 0\n",
    "for i in range(len(tweet_list)):\n",
    "    tweetTK_review = tweet_token[i]\n",
    "    insult = 0\n",
    "    insult_word = \"\"\n",
    "    for tw_token in tweetTK_review:\n",
    "        if tw_token.strip() in badwords_list:\n",
    "            insult_word = tw_token\n",
    "            insulto_activo = 1\n",
    "            insult +=1\n",
    "    # Creamos una nueva lista clasificada\n",
    "    if insulto_activo > 0 and insult > 0:\n",
    "        cont_insult += 1\n",
    "        fwtweet = Classified_tweetsNP[i] + ';' + 'Insulto: ' + insult_word + '\\n'\n",
    "        Classified_tweets.append(fwtweet)\n",
    "    else:\n",
    "        Classified_tweets_NI.append(Classified_tweetsNP[i])\n",
    "print('Cuantos Tweets mencionan Gordo o similar: ' + str(cont_insult) + ' . Hemos bajado  ' + str(len(tweet_list)) + ' Tweets '+ \\\n",
    "      ' Entonces tenemos un ' + str((cont_insult*100)/len(tweet_list)) + '% de los tweets analizados que contienen la palabra Gordo o sinónimo')"
   ]
  },
  {
   "cell_type": "code",
   "execution_count": 15,
   "metadata": {
    "collapsed": true
   },
   "outputs": [],
   "source": [
    "# vamos separar en dos ficheros los tweets que llaman gordo (o similarr) a mi amado lider Y los que no\n",
    "\n",
    "np.savetxt(\"./data/Llaman_Kim_gordo.csv\", Classified_tweets,fmt='%s')\n",
    "np.savetxt(\"./data/No_llaman_Kim_gordo.csv\", Classified_tweets_NI,fmt='%s')\n"
   ]
  },
  {
   "cell_type": "markdown",
   "metadata": {
    "collapsed": true
   },
   "source": [
    "vemos que ultimamente Nadie lo ha hecho\n",
    "\n",
    "Eso esta muy Bien !!!\n",
    "\n",
    "Así me gusta, Que nadie se meta con mi amado lider !!!"
   ]
  },
  {
   "cell_type": "code",
   "execution_count": null,
   "metadata": {
    "collapsed": true
   },
   "outputs": [],
   "source": [
    "# porque de lo contrario...  "
   ]
  },
  {
   "cell_type": "code",
   "execution_count": null,
   "metadata": {
    "collapsed": true
   },
   "outputs": [],
   "source": [
    "# ejecutariamos el Plan respuesta contundente"
   ]
  },
  {
   "cell_type": "code",
   "execution_count": null,
   "metadata": {
    "collapsed": true
   },
   "outputs": [],
   "source": [
    "# Localizaros"
   ]
  },
  {
   "cell_type": "code",
   "execution_count": 18,
   "metadata": {
    "collapsed": true
   },
   "outputs": [],
   "source": [
    "import folium\n",
    "import pandas"
   ]
  },
  {
   "cell_type": "code",
   "execution_count": 19,
   "metadata": {
    "collapsed": false
   },
   "outputs": [
    {
     "data": {
      "text/html": [
       "<div style=\"width:100%;\"><div style=\"position:relative;width:100%;height:0;padding-bottom:60%;\"><iframe src=\"data:text/html;base64,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\" style=\"position:absolute;width:100%;height:100%;left:0;top:0;\"></iframe></div></div>"
      ],
      "text/plain": [
       "<folium.folium.Map at 0xcc9a128>"
      ]
     },
     "execution_count": 19,
     "metadata": {},
     "output_type": "execute_result"
    }
   ],
   "source": [
    "map=folium.Map(location=[40.5800,-3.3900],zoom_start=6,tiles='Mapbox bright')\n",
    "\n",
    "fg=folium.FeatureGroup(name=\"DONDE ESTA EL TRAIDOR\")\n",
    "\n",
    "fg.add_child(folium.Marker(location=[40.4893538,-3.6827461]))\n",
    "\n",
    "map.add_child(fg)\n",
    "\n",
    "map.add_child(folium.LayerControl())"
   ]
  },
  {
   "cell_type": "code",
   "execution_count": 35,
   "metadata": {
    "collapsed": true
   },
   "outputs": [],
   "source": [
    "# y ejecutar el plan de respuesta contundente"
   ]
  },
  {
   "cell_type": "markdown",
   "metadata": {},
   "source": [
    "<img src=\"misiles.jpg\">"
   ]
  },
  {
   "cell_type": "code",
   "execution_count": null,
   "metadata": {
    "collapsed": true
   },
   "outputs": [],
   "source": [
    "# Pero hoy no vemos que sea necesario"
   ]
  },
  {
   "cell_type": "code",
   "execution_count": null,
   "metadata": {
    "collapsed": true
   },
   "outputs": [],
   "source": [
    "# Y todos contentos, mucho más mi amado lider."
   ]
  },
  {
   "cell_type": "markdown",
   "metadata": {},
   "source": [
    "# Pero, recordar, os estamos vigilando"
   ]
  },
  {
   "cell_type": "markdown",
   "metadata": {
    "collapsed": true
   },
   "source": [
    "\n",
    "\n",
    "\n",
    "\n",
    "<img src=\"binoculars.PNG\">\n",
    "\n",
    "\n"
   ]
  },
  {
   "cell_type": "code",
   "execution_count": null,
   "metadata": {
    "collapsed": true
   },
   "outputs": [],
   "source": []
  }
 ],
 "metadata": {
  "kernelspec": {
   "display_name": "Python 2",
   "language": "python",
   "name": "python2"
  },
  "language_info": {
   "codemirror_mode": {
    "name": "ipython",
    "version": 2
   },
   "file_extension": ".py",
   "mimetype": "text/x-python",
   "name": "python",
   "nbconvert_exporter": "python",
   "pygments_lexer": "ipython2",
   "version": "2.7.12"
  }
 },
 "nbformat": 4,
 "nbformat_minor": 0
}
